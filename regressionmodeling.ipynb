{
 "cells": [
  {
   "cell_type": "markdown",
   "metadata": {},
   "source": [
    "\n",
    "<h4> Regression Modeling</h4>\n"
   ]
  },
  {
   "cell_type": "markdown",
   "metadata": {},
   "source": [
    "## Analysis\n",
    "\n",
    "The Analysis contained in this file aims to predict the factors like visibility\n",
    "range, temperature blocks, and day type that can \n",
    "affect the bike rentals in Chicago. By predicting how this factors affect the\n",
    "bike rentals allows business to manage demand and therefore be able to allocate\n",
    "properly the resources potentially.\n",
    "\n",
    "By looking into the raw data, we can saw that each features in the data set \n",
    "have been properly identified to be affecting the rentals of bikes. With this\n",
    "we have engineered the following features with their specific goals, to wit:\n",
    "\n",
    "    1. Visibility Range - this potentially show how much visibility scores\n",
    "       overall affects the consumers decision making in renting bikes;\n",
    "    2. Temperature blocks - this potetially would assume that certain weather\n",
    "       conditions affects consumers in renting a bike;\n",
    "    3. Day Type - ultimately to assume if there is an influx in renting bikes\n",
    "       between weekdays and weekends.\n",
    "\n",
    "Conclusion:\n",
    "\n",
    "The analysis concludes that these three factors does affect in a way the bike \n",
    "rental brand proven by the KNN model."
   ]
  },
  {
   "cell_type": "markdown",
   "metadata": {},
   "source": [
    "<hr style=\"height:.9px;border:none;color:#333;background-color:#333;\" /><br>\n",
    "\n",
    "<h2>Part I: Imports and Data Check</h2>"
   ]
  },
  {
   "cell_type": "code",
   "execution_count": 223,
   "metadata": {},
   "outputs": [],
   "source": [
    "## importing libraries ##\n",
    "\n",
    "import numpy             as np                      \n",
    "import pandas            as pd                       \n",
    "import sklearn.linear_model                         \n",
    "from sklearn.model_selection import train_test_split, GridSearchCV \n",
    "import seaborn as sns\n",
    "import matplotlib.pyplot as plt \n",
    "from sklearn.tree import DecisionTreeClassifier, DecisionTreeRegressor\n",
    "from sklearn.linear_model import LogisticRegression, Ridge, Lasso\n",
    "from sklearn.neighbors import KNeighborsClassifier\n",
    "from sklearn.metrics import mean_squared_error, r2_score\n",
    "from sklearn.neighbors import KNeighborsRegressor # KNN for Regression\n",
    "from sklearn.preprocessing import StandardScaler \n",
    "\n",
    "\n",
    "\n",
    "pd.set_option('display.max_rows', 500)\n",
    "pd.set_option('display.max_columns', 500)\n",
    "pd.set_option('display.width', 1000)"
   ]
  },
  {
   "cell_type": "markdown",
   "metadata": {
    "deletable": false,
    "editable": false,
    "run_control": {
     "frozen": true
    }
   },
   "source": [
    "<br>"
   ]
  },
  {
   "cell_type": "code",
   "execution_count": 224,
   "metadata": {
    "deletable": false,
    "editable": false
   },
   "outputs": [],
   "source": [
    "## importing data ##\n",
    "\n",
    "# reading modeling data into Python\n",
    "modeling_data = './datasets/train.xlsx'\n",
    "\n",
    "# calling this df_train\n",
    "df_train = pd.read_excel(io         = modeling_data,\n",
    "                         sheet_name = 'data',\n",
    "                         header     = 0,\n",
    "                         index_col  = 'ID')\n",
    "\n",
    "\n",
    "\n",
    "# reading testing data into Python\n",
    "testing_data = './datasets/test.xlsx'\n",
    "\n",
    "# calling this df_test\n",
    "df_test = pd.read_excel(io         = testing_data,\n",
    "                        sheet_name = 'data',\n",
    "                        header     = 0,\n",
    "                        index_col  = 'ID')"
   ]
  },
  {
   "cell_type": "markdown",
   "metadata": {
    "deletable": false,
    "editable": false,
    "run_control": {
     "frozen": true
    }
   },
   "source": [
    "<br>"
   ]
  },
  {
   "cell_type": "code",
   "execution_count": 225,
   "metadata": {
    "deletable": false,
    "editable": false
   },
   "outputs": [
    {
     "data": {
      "text/html": [
       "<div>\n",
       "<style scoped>\n",
       "    .dataframe tbody tr th:only-of-type {\n",
       "        vertical-align: middle;\n",
       "    }\n",
       "\n",
       "    .dataframe tbody tr th {\n",
       "        vertical-align: top;\n",
       "    }\n",
       "\n",
       "    .dataframe thead th {\n",
       "        text-align: right;\n",
       "    }\n",
       "</style>\n",
       "<table border=\"1\" class=\"dataframe\">\n",
       "  <thead>\n",
       "    <tr style=\"text-align: right;\">\n",
       "      <th></th>\n",
       "      <th>DateHour</th>\n",
       "      <th>Temperature(F)</th>\n",
       "      <th>Humidity(%)</th>\n",
       "      <th>Wind speed (mph)</th>\n",
       "      <th>Visibility(miles)</th>\n",
       "      <th>DewPointTemperature(F)</th>\n",
       "      <th>Rainfall(in)</th>\n",
       "      <th>Snowfall(in)</th>\n",
       "      <th>SolarRadiation(MJ/m2)</th>\n",
       "      <th>Holiday</th>\n",
       "      <th>FunctioningDay</th>\n",
       "      <th>RENTALS</th>\n",
       "      <th>set</th>\n",
       "    </tr>\n",
       "    <tr>\n",
       "      <th>ID</th>\n",
       "      <th></th>\n",
       "      <th></th>\n",
       "      <th></th>\n",
       "      <th></th>\n",
       "      <th></th>\n",
       "      <th></th>\n",
       "      <th></th>\n",
       "      <th></th>\n",
       "      <th></th>\n",
       "      <th></th>\n",
       "      <th></th>\n",
       "      <th></th>\n",
       "      <th></th>\n",
       "    </tr>\n",
       "  </thead>\n",
       "  <tbody>\n",
       "    <tr>\n",
       "      <th>mb_1039</th>\n",
       "      <td>2023-10-14 05:59:54.810000</td>\n",
       "      <td>52</td>\n",
       "      <td>81</td>\n",
       "      <td>0.4</td>\n",
       "      <td>2.9</td>\n",
       "      <td>46.4</td>\n",
       "      <td>0.0</td>\n",
       "      <td>0.0</td>\n",
       "      <td>0.00</td>\n",
       "      <td>No</td>\n",
       "      <td>Yes</td>\n",
       "      <td>519.0</td>\n",
       "      <td>Not Kaggle</td>\n",
       "    </tr>\n",
       "    <tr>\n",
       "      <th>mb_1330</th>\n",
       "      <td>2023-10-26 08:59:53.355000</td>\n",
       "      <td>51</td>\n",
       "      <td>53</td>\n",
       "      <td>2.2</td>\n",
       "      <td>NaN</td>\n",
       "      <td>35.2</td>\n",
       "      <td>0.0</td>\n",
       "      <td>0.0</td>\n",
       "      <td>1.01</td>\n",
       "      <td>No</td>\n",
       "      <td>Yes</td>\n",
       "      <td>1251.0</td>\n",
       "      <td>Not Kaggle</td>\n",
       "    </tr>\n",
       "    <tr>\n",
       "      <th>mb_551</th>\n",
       "      <td>2023-09-23 21:59:57.250000</td>\n",
       "      <td>56</td>\n",
       "      <td>49</td>\n",
       "      <td>2.5</td>\n",
       "      <td>3.4</td>\n",
       "      <td>38.8</td>\n",
       "      <td>0.0</td>\n",
       "      <td>0.0</td>\n",
       "      <td>0.00</td>\n",
       "      <td>No</td>\n",
       "      <td>Yes</td>\n",
       "      <td>1685.0</td>\n",
       "      <td>Not Kaggle</td>\n",
       "    </tr>\n",
       "    <tr>\n",
       "      <th>mb_2103</th>\n",
       "      <td>2023-12-19 14:00:00</td>\n",
       "      <td>69</td>\n",
       "      <td>32</td>\n",
       "      <td>9.8</td>\n",
       "      <td>12.4</td>\n",
       "      <td>38.7</td>\n",
       "      <td>0.0</td>\n",
       "      <td>0.0</td>\n",
       "      <td>2.36</td>\n",
       "      <td>No</td>\n",
       "      <td>No</td>\n",
       "      <td>0.0</td>\n",
       "      <td>Not Kaggle</td>\n",
       "    </tr>\n",
       "    <tr>\n",
       "      <th>mb_1430</th>\n",
       "      <td>2023-10-30 12:59:52.855000</td>\n",
       "      <td>53</td>\n",
       "      <td>20</td>\n",
       "      <td>2.9</td>\n",
       "      <td>10.8</td>\n",
       "      <td>12.9</td>\n",
       "      <td>0.0</td>\n",
       "      <td>0.0</td>\n",
       "      <td>1.96</td>\n",
       "      <td>No</td>\n",
       "      <td>Yes</td>\n",
       "      <td>814.0</td>\n",
       "      <td>Not Kaggle</td>\n",
       "    </tr>\n",
       "  </tbody>\n",
       "</table>\n",
       "</div>"
      ],
      "text/plain": [
       "                           DateHour  Temperature(F)  Humidity(%)  Wind speed (mph)  Visibility(miles)  DewPointTemperature(F)  Rainfall(in)  Snowfall(in)  SolarRadiation(MJ/m2) Holiday FunctioningDay  RENTALS         set\n",
       "ID                                                                                                                                                                                                                          \n",
       "mb_1039  2023-10-14 05:59:54.810000              52           81               0.4                2.9                    46.4           0.0           0.0                   0.00      No            Yes    519.0  Not Kaggle\n",
       "mb_1330  2023-10-26 08:59:53.355000              51           53               2.2                NaN                    35.2           0.0           0.0                   1.01      No            Yes   1251.0  Not Kaggle\n",
       "mb_551   2023-09-23 21:59:57.250000              56           49               2.5                3.4                    38.8           0.0           0.0                   0.00      No            Yes   1685.0  Not Kaggle\n",
       "mb_2103         2023-12-19 14:00:00              69           32               9.8               12.4                    38.7           0.0           0.0                   2.36      No             No      0.0  Not Kaggle\n",
       "mb_1430  2023-10-30 12:59:52.855000              53           20               2.9               10.8                    12.9           0.0           0.0                   1.96      No            Yes    814.0  Not Kaggle"
      ]
     },
     "execution_count": 225,
     "metadata": {},
     "output_type": "execute_result"
    }
   ],
   "source": [
    "# concatenating datasets together for mv analysis and feature engineering\n",
    "df_train['set'] = 'Not Kaggle'\n",
    "df_test ['set'] = 'Kaggle'\n",
    "\n",
    "# concatenating both datasets together for mv and feature engineering\n",
    "df_full = pd.concat(objs = [df_train, df_test],\n",
    "                    axis = 0,\n",
    "                    ignore_index = False)\n",
    "\n",
    "\n",
    "# checking data\n",
    "df_full.head(n = 5)"
   ]
  },
  {
   "cell_type": "markdown",
   "metadata": {
    "deletable": false,
    "editable": false,
    "run_control": {
     "frozen": true
    }
   },
   "source": [
    "<br>"
   ]
  },
  {
   "cell_type": "code",
   "execution_count": 226,
   "metadata": {
    "deletable": false,
    "editable": false
   },
   "outputs": [
    {
     "data": {
      "text/plain": [
       "Index(['DateHour', 'Temperature(F)', 'Humidity(%)', 'Wind speed (mph)', 'Visibility(miles)', 'DewPointTemperature(F)', 'Rainfall(in)', 'Snowfall(in)', 'SolarRadiation(MJ/m2)', 'Holiday', 'FunctioningDay', 'RENTALS', 'set'], dtype='object')"
      ]
     },
     "execution_count": 226,
     "metadata": {},
     "output_type": "execute_result"
    }
   ],
   "source": [
    "# checking available features\n",
    "df_full.columns"
   ]
  },
  {
   "cell_type": "markdown",
   "metadata": {
    "deletable": false,
    "editable": false,
    "run_control": {
     "frozen": true
    }
   },
   "source": [
    "<br>"
   ]
  },
  {
   "cell_type": "code",
   "execution_count": 227,
   "metadata": {},
   "outputs": [],
   "source": [
    "# setting the response variable\n",
    "\n",
    "y_variable = 'RENTALS'"
   ]
  },
  {
   "cell_type": "markdown",
   "metadata": {},
   "source": [
    "\n",
    "# Part II: Data Preparation\n",
    "\n",
    "    \n",
    "<h3>Base Modeling</h3>"
   ]
  },
  {
   "cell_type": "code",
   "execution_count": 229,
   "metadata": {},
   "outputs": [
    {
     "name": "stdout",
     "output_type": "stream",
     "text": [
      "<class 'pandas.core.frame.DataFrame'>\n",
      "Index: 2184 entries, mb_1039 to mb_1225\n",
      "Data columns (total 13 columns):\n",
      " #   Column                  Non-Null Count  Dtype  \n",
      "---  ------                  --------------  -----  \n",
      " 0   DateHour                2184 non-null   object \n",
      " 1   Temperature(F)          2184 non-null   int64  \n",
      " 2   Humidity(%)             2184 non-null   int64  \n",
      " 3   Wind speed (mph)        2184 non-null   float64\n",
      " 4   Visibility(miles)       2108 non-null   float64\n",
      " 5   DewPointTemperature(F)  2117 non-null   float64\n",
      " 6   Rainfall(in)            2184 non-null   float64\n",
      " 7   Snowfall(in)            2184 non-null   float64\n",
      " 8   SolarRadiation(MJ/m2)   2078 non-null   float64\n",
      " 9   Holiday                 2184 non-null   object \n",
      " 10  FunctioningDay          2184 non-null   object \n",
      " 11  RENTALS                 1638 non-null   float64\n",
      " 12  set                     2184 non-null   object \n",
      "dtypes: float64(7), int64(2), object(4)\n",
      "memory usage: 238.9+ KB\n"
     ]
    }
   ],
   "source": [
    "#DATA EXPLORATION\n",
    "\n",
    "df_full.info()"
   ]
  },
  {
   "cell_type": "code",
   "execution_count": 230,
   "metadata": {},
   "outputs": [
    {
     "data": {
      "text/html": [
       "<div>\n",
       "<style scoped>\n",
       "    .dataframe tbody tr th:only-of-type {\n",
       "        vertical-align: middle;\n",
       "    }\n",
       "\n",
       "    .dataframe tbody tr th {\n",
       "        vertical-align: top;\n",
       "    }\n",
       "\n",
       "    .dataframe thead th {\n",
       "        text-align: right;\n",
       "    }\n",
       "</style>\n",
       "<table border=\"1\" class=\"dataframe\">\n",
       "  <thead>\n",
       "    <tr style=\"text-align: right;\">\n",
       "      <th></th>\n",
       "      <th>Temperature(F)</th>\n",
       "      <th>Humidity(%)</th>\n",
       "      <th>Wind speed (mph)</th>\n",
       "      <th>Visibility(miles)</th>\n",
       "      <th>DewPointTemperature(F)</th>\n",
       "      <th>Rainfall(in)</th>\n",
       "      <th>Snowfall(in)</th>\n",
       "      <th>SolarRadiation(MJ/m2)</th>\n",
       "      <th>RENTALS</th>\n",
       "    </tr>\n",
       "  </thead>\n",
       "  <tbody>\n",
       "    <tr>\n",
       "      <th>count</th>\n",
       "      <td>2184.000000</td>\n",
       "      <td>2184.000000</td>\n",
       "      <td>2184.000000</td>\n",
       "      <td>2108.000000</td>\n",
       "      <td>2117.000000</td>\n",
       "      <td>2184.000000</td>\n",
       "      <td>2184.000000</td>\n",
       "      <td>2078.000000</td>\n",
       "      <td>1638.000000</td>\n",
       "    </tr>\n",
       "    <tr>\n",
       "      <th>mean</th>\n",
       "      <td>57.389652</td>\n",
       "      <td>59.228480</td>\n",
       "      <td>3.344780</td>\n",
       "      <td>9.646964</td>\n",
       "      <td>42.036089</td>\n",
       "      <td>0.004858</td>\n",
       "      <td>0.002015</td>\n",
       "      <td>0.547161</td>\n",
       "      <td>828.153846</td>\n",
       "    </tr>\n",
       "    <tr>\n",
       "      <th>std</th>\n",
       "      <td>12.861669</td>\n",
       "      <td>18.686445</td>\n",
       "      <td>2.071144</td>\n",
       "      <td>3.492413</td>\n",
       "      <td>13.997667</td>\n",
       "      <td>0.037354</td>\n",
       "      <td>0.018550</td>\n",
       "      <td>0.810564</td>\n",
       "      <td>657.599846</td>\n",
       "    </tr>\n",
       "    <tr>\n",
       "      <th>min</th>\n",
       "      <td>26.000000</td>\n",
       "      <td>13.000000</td>\n",
       "      <td>0.000000</td>\n",
       "      <td>0.000000</td>\n",
       "      <td>-2.200000</td>\n",
       "      <td>0.000000</td>\n",
       "      <td>0.000000</td>\n",
       "      <td>0.000000</td>\n",
       "      <td>0.000000</td>\n",
       "    </tr>\n",
       "    <tr>\n",
       "      <th>25%</th>\n",
       "      <td>48.000000</td>\n",
       "      <td>44.000000</td>\n",
       "      <td>1.800000</td>\n",
       "      <td>7.400000</td>\n",
       "      <td>33.400000</td>\n",
       "      <td>0.000000</td>\n",
       "      <td>0.000000</td>\n",
       "      <td>0.000000</td>\n",
       "      <td>241.500000</td>\n",
       "    </tr>\n",
       "    <tr>\n",
       "      <th>50%</th>\n",
       "      <td>57.000000</td>\n",
       "      <td>59.000000</td>\n",
       "      <td>2.900000</td>\n",
       "      <td>11.700000</td>\n",
       "      <td>41.900000</td>\n",
       "      <td>0.000000</td>\n",
       "      <td>0.000000</td>\n",
       "      <td>0.000000</td>\n",
       "      <td>761.500000</td>\n",
       "    </tr>\n",
       "    <tr>\n",
       "      <th>75%</th>\n",
       "      <td>68.000000</td>\n",
       "      <td>74.000000</td>\n",
       "      <td>4.500000</td>\n",
       "      <td>12.400000</td>\n",
       "      <td>51.600000</td>\n",
       "      <td>0.000000</td>\n",
       "      <td>0.000000</td>\n",
       "      <td>0.980000</td>\n",
       "      <td>1203.750000</td>\n",
       "    </tr>\n",
       "    <tr>\n",
       "      <th>max</th>\n",
       "      <td>91.000000</td>\n",
       "      <td>97.000000</td>\n",
       "      <td>12.800000</td>\n",
       "      <td>12.400000</td>\n",
       "      <td>75.000000</td>\n",
       "      <td>0.710000</td>\n",
       "      <td>0.300000</td>\n",
       "      <td>3.180000</td>\n",
       "      <td>3303.000000</td>\n",
       "    </tr>\n",
       "  </tbody>\n",
       "</table>\n",
       "</div>"
      ],
      "text/plain": [
       "       Temperature(F)  Humidity(%)  Wind speed (mph)  Visibility(miles)  DewPointTemperature(F)  Rainfall(in)  Snowfall(in)  SolarRadiation(MJ/m2)      RENTALS\n",
       "count     2184.000000  2184.000000       2184.000000        2108.000000             2117.000000   2184.000000   2184.000000            2078.000000  1638.000000\n",
       "mean        57.389652    59.228480          3.344780           9.646964               42.036089      0.004858      0.002015               0.547161   828.153846\n",
       "std         12.861669    18.686445          2.071144           3.492413               13.997667      0.037354      0.018550               0.810564   657.599846\n",
       "min         26.000000    13.000000          0.000000           0.000000               -2.200000      0.000000      0.000000               0.000000     0.000000\n",
       "25%         48.000000    44.000000          1.800000           7.400000               33.400000      0.000000      0.000000               0.000000   241.500000\n",
       "50%         57.000000    59.000000          2.900000          11.700000               41.900000      0.000000      0.000000               0.000000   761.500000\n",
       "75%         68.000000    74.000000          4.500000          12.400000               51.600000      0.000000      0.000000               0.980000  1203.750000\n",
       "max         91.000000    97.000000         12.800000          12.400000               75.000000      0.710000      0.300000               3.180000  3303.000000"
      ]
     },
     "execution_count": 230,
     "metadata": {},
     "output_type": "execute_result"
    }
   ],
   "source": [
    "# analyzing numerical data\n",
    "df_full.describe()"
   ]
  },
  {
   "cell_type": "code",
   "execution_count": 231,
   "metadata": {},
   "outputs": [
    {
     "data": {
      "image/png": "[encoded data removed]",
      "text/plain": [
       "<Figure size 1500x500 with 3 Axes>"
      ]
     },
     "metadata": {},
     "output_type": "display_data"
    }
   ],
   "source": [
    "# after checking, it looks like there are missing values for Visibility, DewPoint, and SolarRad\n",
    "\n",
    "#Checking distributions of columns with missing values via histogram\n",
    "biking_cols = ['Visibility(miles)', 'DewPointTemperature(F)', 'SolarRadiation(MJ/m2)']\n",
    "\n",
    "# Creating a figure\n",
    "plt.figure(figsize=(15, 5))  # Adjust the size as needed\n",
    "\n",
    "# Definining font sizes\n",
    "title_fontsize = 15\n",
    "label_fontsize = 10\n",
    "\n",
    "# Using a loop to create a plot for all three\n",
    "for index, column in enumerate(biking_cols, start=1): \n",
    "    plt.subplot(1, 3, index)  \n",
    "    df_full[column].hist(bins= 30)\n",
    "    plt.title(f'{column} Distribution', fontsize=title_fontsize)\n",
    "    plt.xlabel(column, fontsize=label_fontsize)\n",
    "    plt.ylabel('Frequency', fontsize=label_fontsize)\n",
    "    plt.grid(False)\n",
    "    plt.xticks(fontsize=label_fontsize)\n",
    "    plt.yticks(fontsize=label_fontsize)\n",
    "\n",
    "# Code to make sure that plots don't overlap\n",
    "plt.tight_layout()\n",
    "\n",
    "# Displaying the plots\n",
    "plt.show()"
   ]
  },
  {
   "cell_type": "code",
   "execution_count": 232,
   "metadata": {},
   "outputs": [
    {
     "data": {
      "text/plain": [
       "Index(['DateHour', 'TemperatureF', 'HumidityPercent', 'Wind_speed_mph', 'Visibilitymiles', 'DewPointTemperatureF', 'Rainfallin', 'Snowfallin', 'SolarRadiationMJ/m2', 'Holiday', 'FunctioningDay', 'RENTALS', 'set'], dtype='object')"
      ]
     },
     "execution_count": 232,
     "metadata": {},
     "output_type": "execute_result"
    }
   ],
   "source": [
    "#before further analysis, editing column names for easier management\n",
    "df_full.columns = df_full.columns.str.replace(' ', '_').str.replace('(', '').str.replace(')', '').str.replace('%', 'Percent')\n",
    "\n",
    "# printing comlumns again\n",
    "df_full.columns"
   ]
  },
  {
   "cell_type": "markdown",
   "metadata": {
    "deletable": false,
    "editable": false,
    "run_control": {
     "frozen": true
    }
   },
   "source": [
    "<br><h3>Missing Value Analysis and Imputation</h3>"
   ]
  },
  {
   "cell_type": "code",
   "execution_count": 233,
   "metadata": {
    "scrolled": true
   },
   "outputs": [
    {
     "data": {
      "text/plain": [
       "DateHour                  0\n",
       "TemperatureF              0\n",
       "HumidityPercent           0\n",
       "Wind_speed_mph            0\n",
       "Visibilitymiles          76\n",
       "DewPointTemperatureF     67\n",
       "Rainfallin                0\n",
       "Snowfallin                0\n",
       "SolarRadiationMJ/m2     106\n",
       "Holiday                   0\n",
       "FunctioningDay            0\n",
       "RENTALS                 546\n",
       "set                       0\n",
       "dtype: int64"
      ]
     },
     "execution_count": 233,
     "metadata": {},
     "output_type": "execute_result"
    }
   ],
   "source": [
    "## Missing Value Imputation ##\n",
    "\n",
    "missval_bikes = df_full.isnull().sum()\n",
    "\n",
    "missval_bikes"
   ]
  },
  {
   "cell_type": "code",
   "execution_count": 234,
   "metadata": {},
   "outputs": [
    {
     "name": "stdout",
     "output_type": "stream",
     "text": [
      "Visibilitymiles         0\n",
      "DewPointTemperatureF    0\n",
      "SolarRadiationMJ/m2     0\n",
      "dtype: int64\n"
     ]
    }
   ],
   "source": [
    "# Managing missing values\n",
    "\n",
    "visfill = df_full['Visibilitymiles'].median()\n",
    "dewfill = df_full['DewPointTemperatureF'].median()\n",
    "solfill = df_full['SolarRadiationMJ/m2'].median()\n",
    "\n",
    "df_full['Visibilitymiles'].fillna(value=visfill,\n",
    "                                 inplace=True)\n",
    "\n",
    "df_full['DewPointTemperatureF'].fillna(value=dewfill,\n",
    "                                 inplace=True)\n",
    "\n",
    "df_full['SolarRadiationMJ/m2'].fillna(value=solfill,\n",
    "                                 inplace=True)\n",
    "\n",
    "#verifying no more missing values exist\n",
    "print(df_full[['Visibilitymiles', 'DewPointTemperatureF', 'SolarRadiationMJ/m2']].isnull().sum())"
   ]
  },
  {
   "cell_type": "markdown",
   "metadata": {
    "deletable": false,
    "editable": false,
    "run_control": {
     "frozen": true
    }
   },
   "source": [
    "<br><h3>Transformations</h3>"
   ]
  },
  {
   "cell_type": "code",
   "execution_count": 1,
   "metadata": {},
   "outputs": [
    {
     "ename": "NameError",
     "evalue": "name 'df_full' is not defined",
     "output_type": "error",
     "traceback": [
      "\u001b[1;31m---------------------------------------------------------------------------\u001b[0m",
      "\u001b[1;31mNameError\u001b[0m                                 Traceback (most recent call last)",
      "Cell \u001b[1;32mIn[1], line 1\u001b[0m\n\u001b[1;32m----> 1\u001b[0m df_full\n",
      "\u001b[1;31mNameError\u001b[0m: name 'df_full' is not defined"
     ]
    }
   ],
   "source": [
    "# Looking through the data again\n",
    "df_full"
   ]
  },
  {
   "cell_type": "code",
   "execution_count": 236,
   "metadata": {},
   "outputs": [],
   "source": [
    "## Transformations ##\n",
    "\n",
    "# Transforming columns into numerical: DateHour, Holidays, and Functioning Day\n",
    "\n",
    "# Managing DateHour\n",
    "def parse_dates(date_str):\n",
    "    try:\n",
    "        # Code using try to parse the format '%Y-%m-%d %H:%M:%S.%f' \n",
    "        return pd.to_datetime(date_str, format='%Y-%m-%d %H:%M:%S.%f', errors='raise')\n",
    "    except ValueError:\n",
    "        # backup format '%Y-%m-%d %H:%M:%S'\n",
    "        return pd.to_datetime(date_str, format='%Y-%m-%d %H:%M:%S', errors='raise')\n",
    "\n",
    "    \n",
    "\n",
    "# Applying the DateHour\n",
    "df_full['DateHour'] = df_full['DateHour'].apply(parse_dates)\n",
    "\n",
    "# Extracting 'Hour' and 'Month' from the datetime column and creating 'Day_Type'feature\n",
    "df_full['Hour'] = df_full['DateHour'].dt.hour # for hours\n",
    "df_full['Month'] = df_full['DateHour'].dt.month # for month\n",
    "df_full['weekday'] = df_full['DateHour'].dt.weekday # weekday\n",
    "df_full['Day_Type'] = df_full['weekday'].apply(lambda x: 1 if x >= 5 else 0) # weekend\n",
    "\n",
    "# Dropping 'weekday' column since 'Day_Type' has been used\n",
    "df_full.drop(['weekday'], axis=1, inplace=True) \n",
    "\n",
    "# Transforming 'Holiday' and 'FunctioningDay' to binary \n",
    "df_full['Holiday'] = df_full['Holiday'].map({'No': 0, 'Yes': 1})\n",
    "df_full['FunctioningDay'] = df_full['FunctioningDay'].map({'No': 0, 'Yes': 1})"
   ]
  },
  {
   "cell_type": "code",
   "execution_count": 237,
   "metadata": {},
   "outputs": [
    {
     "data": {
      "text/html": [
       "<div>\n",
       "<style scoped>\n",
       "    .dataframe tbody tr th:only-of-type {\n",
       "        vertical-align: middle;\n",
       "    }\n",
       "\n",
       "    .dataframe tbody tr th {\n",
       "        vertical-align: top;\n",
       "    }\n",
       "\n",
       "    .dataframe thead th {\n",
       "        text-align: right;\n",
       "    }\n",
       "</style>\n",
       "<table border=\"1\" class=\"dataframe\">\n",
       "  <thead>\n",
       "    <tr style=\"text-align: right;\">\n",
       "      <th></th>\n",
       "      <th>DateHour</th>\n",
       "      <th>TemperatureF</th>\n",
       "      <th>HumidityPercent</th>\n",
       "      <th>Wind_speed_mph</th>\n",
       "      <th>Visibilitymiles</th>\n",
       "      <th>DewPointTemperatureF</th>\n",
       "      <th>Rainfallin</th>\n",
       "      <th>Snowfallin</th>\n",
       "      <th>SolarRadiationMJ/m2</th>\n",
       "      <th>Holiday</th>\n",
       "      <th>FunctioningDay</th>\n",
       "      <th>RENTALS</th>\n",
       "      <th>set</th>\n",
       "      <th>Hour</th>\n",
       "      <th>Month</th>\n",
       "      <th>Day_Type</th>\n",
       "    </tr>\n",
       "    <tr>\n",
       "      <th>ID</th>\n",
       "      <th></th>\n",
       "      <th></th>\n",
       "      <th></th>\n",
       "      <th></th>\n",
       "      <th></th>\n",
       "      <th></th>\n",
       "      <th></th>\n",
       "      <th></th>\n",
       "      <th></th>\n",
       "      <th></th>\n",
       "      <th></th>\n",
       "      <th></th>\n",
       "      <th></th>\n",
       "      <th></th>\n",
       "      <th></th>\n",
       "      <th></th>\n",
       "    </tr>\n",
       "  </thead>\n",
       "  <tbody>\n",
       "    <tr>\n",
       "      <th>mb_1039</th>\n",
       "      <td>2023-10-14 05:59:54.810</td>\n",
       "      <td>52</td>\n",
       "      <td>81</td>\n",
       "      <td>0.4</td>\n",
       "      <td>2.9</td>\n",
       "      <td>46.4</td>\n",
       "      <td>0.0</td>\n",
       "      <td>0.0</td>\n",
       "      <td>0.00</td>\n",
       "      <td>0</td>\n",
       "      <td>1</td>\n",
       "      <td>519.0</td>\n",
       "      <td>Not Kaggle</td>\n",
       "      <td>5</td>\n",
       "      <td>10</td>\n",
       "      <td>1</td>\n",
       "    </tr>\n",
       "    <tr>\n",
       "      <th>mb_1330</th>\n",
       "      <td>2023-10-26 08:59:53.355</td>\n",
       "      <td>51</td>\n",
       "      <td>53</td>\n",
       "      <td>2.2</td>\n",
       "      <td>11.7</td>\n",
       "      <td>35.2</td>\n",
       "      <td>0.0</td>\n",
       "      <td>0.0</td>\n",
       "      <td>1.01</td>\n",
       "      <td>0</td>\n",
       "      <td>1</td>\n",
       "      <td>1251.0</td>\n",
       "      <td>Not Kaggle</td>\n",
       "      <td>8</td>\n",
       "      <td>10</td>\n",
       "      <td>0</td>\n",
       "    </tr>\n",
       "    <tr>\n",
       "      <th>mb_551</th>\n",
       "      <td>2023-09-23 21:59:57.250</td>\n",
       "      <td>56</td>\n",
       "      <td>49</td>\n",
       "      <td>2.5</td>\n",
       "      <td>3.4</td>\n",
       "      <td>38.8</td>\n",
       "      <td>0.0</td>\n",
       "      <td>0.0</td>\n",
       "      <td>0.00</td>\n",
       "      <td>0</td>\n",
       "      <td>1</td>\n",
       "      <td>1685.0</td>\n",
       "      <td>Not Kaggle</td>\n",
       "      <td>21</td>\n",
       "      <td>9</td>\n",
       "      <td>1</td>\n",
       "    </tr>\n",
       "    <tr>\n",
       "      <th>mb_2103</th>\n",
       "      <td>2023-12-19 14:00:00.000</td>\n",
       "      <td>69</td>\n",
       "      <td>32</td>\n",
       "      <td>9.8</td>\n",
       "      <td>12.4</td>\n",
       "      <td>38.7</td>\n",
       "      <td>0.0</td>\n",
       "      <td>0.0</td>\n",
       "      <td>2.36</td>\n",
       "      <td>0</td>\n",
       "      <td>0</td>\n",
       "      <td>0.0</td>\n",
       "      <td>Not Kaggle</td>\n",
       "      <td>14</td>\n",
       "      <td>12</td>\n",
       "      <td>0</td>\n",
       "    </tr>\n",
       "    <tr>\n",
       "      <th>mb_1430</th>\n",
       "      <td>2023-10-30 12:59:52.855</td>\n",
       "      <td>53</td>\n",
       "      <td>20</td>\n",
       "      <td>2.9</td>\n",
       "      <td>10.8</td>\n",
       "      <td>12.9</td>\n",
       "      <td>0.0</td>\n",
       "      <td>0.0</td>\n",
       "      <td>1.96</td>\n",
       "      <td>0</td>\n",
       "      <td>1</td>\n",
       "      <td>814.0</td>\n",
       "      <td>Not Kaggle</td>\n",
       "      <td>12</td>\n",
       "      <td>10</td>\n",
       "      <td>0</td>\n",
       "    </tr>\n",
       "    <tr>\n",
       "      <th>...</th>\n",
       "      <td>...</td>\n",
       "      <td>...</td>\n",
       "      <td>...</td>\n",
       "      <td>...</td>\n",
       "      <td>...</td>\n",
       "      <td>...</td>\n",
       "      <td>...</td>\n",
       "      <td>...</td>\n",
       "      <td>...</td>\n",
       "      <td>...</td>\n",
       "      <td>...</td>\n",
       "      <td>...</td>\n",
       "      <td>...</td>\n",
       "      <td>...</td>\n",
       "      <td>...</td>\n",
       "      <td>...</td>\n",
       "    </tr>\n",
       "    <tr>\n",
       "      <th>mb_729</th>\n",
       "      <td>2023-10-01 07:59:56.360</td>\n",
       "      <td>67</td>\n",
       "      <td>53</td>\n",
       "      <td>3.1</td>\n",
       "      <td>2.3</td>\n",
       "      <td>46.4</td>\n",
       "      <td>0.0</td>\n",
       "      <td>0.0</td>\n",
       "      <td>0.50</td>\n",
       "      <td>0</td>\n",
       "      <td>1</td>\n",
       "      <td>NaN</td>\n",
       "      <td>Kaggle</td>\n",
       "      <td>7</td>\n",
       "      <td>10</td>\n",
       "      <td>1</td>\n",
       "    </tr>\n",
       "    <tr>\n",
       "      <th>mb_767</th>\n",
       "      <td>2023-10-02 21:59:56.170</td>\n",
       "      <td>50</td>\n",
       "      <td>55</td>\n",
       "      <td>3.6</td>\n",
       "      <td>12.4</td>\n",
       "      <td>32.4</td>\n",
       "      <td>0.0</td>\n",
       "      <td>0.0</td>\n",
       "      <td>0.00</td>\n",
       "      <td>0</td>\n",
       "      <td>1</td>\n",
       "      <td>NaN</td>\n",
       "      <td>Kaggle</td>\n",
       "      <td>21</td>\n",
       "      <td>10</td>\n",
       "      <td>0</td>\n",
       "    </tr>\n",
       "    <tr>\n",
       "      <th>mb_267</th>\n",
       "      <td>2023-09-12 01:59:58.670</td>\n",
       "      <td>45</td>\n",
       "      <td>62</td>\n",
       "      <td>0.4</td>\n",
       "      <td>12.4</td>\n",
       "      <td>34.3</td>\n",
       "      <td>0.0</td>\n",
       "      <td>0.0</td>\n",
       "      <td>0.00</td>\n",
       "      <td>0</td>\n",
       "      <td>1</td>\n",
       "      <td>NaN</td>\n",
       "      <td>Kaggle</td>\n",
       "      <td>1</td>\n",
       "      <td>9</td>\n",
       "      <td>0</td>\n",
       "    </tr>\n",
       "    <tr>\n",
       "      <th>mb_1696</th>\n",
       "      <td>2023-12-02 15:00:00.000</td>\n",
       "      <td>66</td>\n",
       "      <td>40</td>\n",
       "      <td>6.7</td>\n",
       "      <td>12.4</td>\n",
       "      <td>39.4</td>\n",
       "      <td>0.0</td>\n",
       "      <td>0.0</td>\n",
       "      <td>1.66</td>\n",
       "      <td>0</td>\n",
       "      <td>1</td>\n",
       "      <td>NaN</td>\n",
       "      <td>Kaggle</td>\n",
       "      <td>15</td>\n",
       "      <td>12</td>\n",
       "      <td>1</td>\n",
       "    </tr>\n",
       "    <tr>\n",
       "      <th>mb_1225</th>\n",
       "      <td>2023-10-21 23:59:53.880</td>\n",
       "      <td>68</td>\n",
       "      <td>73</td>\n",
       "      <td>2.7</td>\n",
       "      <td>12.4</td>\n",
       "      <td>58.1</td>\n",
       "      <td>0.0</td>\n",
       "      <td>0.0</td>\n",
       "      <td>0.00</td>\n",
       "      <td>0</td>\n",
       "      <td>0</td>\n",
       "      <td>NaN</td>\n",
       "      <td>Kaggle</td>\n",
       "      <td>23</td>\n",
       "      <td>10</td>\n",
       "      <td>1</td>\n",
       "    </tr>\n",
       "  </tbody>\n",
       "</table>\n",
       "<p>2184 rows × 16 columns</p>\n",
       "</div>"
      ],
      "text/plain": [
       "                       DateHour  TemperatureF  HumidityPercent  Wind_speed_mph  Visibilitymiles  DewPointTemperatureF  Rainfallin  Snowfallin  SolarRadiationMJ/m2  Holiday  FunctioningDay  RENTALS         set  Hour  Month  Day_Type\n",
       "ID                                                                                                                                                                                                                                     \n",
       "mb_1039 2023-10-14 05:59:54.810            52               81             0.4              2.9                  46.4         0.0         0.0                 0.00        0               1    519.0  Not Kaggle     5     10         1\n",
       "mb_1330 2023-10-26 08:59:53.355            51               53             2.2             11.7                  35.2         0.0         0.0                 1.01        0               1   1251.0  Not Kaggle     8     10         0\n",
       "mb_551  2023-09-23 21:59:57.250            56               49             2.5              3.4                  38.8         0.0         0.0                 0.00        0               1   1685.0  Not Kaggle    21      9         1\n",
       "mb_2103 2023-12-19 14:00:00.000            69               32             9.8             12.4                  38.7         0.0         0.0                 2.36        0               0      0.0  Not Kaggle    14     12         0\n",
       "mb_1430 2023-10-30 12:59:52.855            53               20             2.9             10.8                  12.9         0.0         0.0                 1.96        0               1    814.0  Not Kaggle    12     10         0\n",
       "...                         ...           ...              ...             ...              ...                   ...         ...         ...                  ...      ...             ...      ...         ...   ...    ...       ...\n",
       "mb_729  2023-10-01 07:59:56.360            67               53             3.1              2.3                  46.4         0.0         0.0                 0.50        0               1      NaN      Kaggle     7     10         1\n",
       "mb_767  2023-10-02 21:59:56.170            50               55             3.6             12.4                  32.4         0.0         0.0                 0.00        0               1      NaN      Kaggle    21     10         0\n",
       "mb_267  2023-09-12 01:59:58.670            45               62             0.4             12.4                  34.3         0.0         0.0                 0.00        0               1      NaN      Kaggle     1      9         0\n",
       "mb_1696 2023-12-02 15:00:00.000            66               40             6.7             12.4                  39.4         0.0         0.0                 1.66        0               1      NaN      Kaggle    15     12         1\n",
       "mb_1225 2023-10-21 23:59:53.880            68               73             2.7             12.4                  58.1         0.0         0.0                 0.00        0               0      NaN      Kaggle    23     10         1\n",
       "\n",
       "[2184 rows x 16 columns]"
      ]
     },
     "execution_count": 237,
     "metadata": {},
     "output_type": "execute_result"
    }
   ],
   "source": [
    "df_full"
   ]
  },
  {
   "cell_type": "code",
   "execution_count": 238,
   "metadata": {},
   "outputs": [
    {
     "data": {
      "image/png": "[encoded data removed]",
      "text/plain": [
       "<Figure size 1000x300 with 4 Axes>"
      ]
     },
     "metadata": {},
     "output_type": "display_data"
    },
    {
     "data": {
      "image/png": "[encoded data removed]",
      "text/plain": [
       "<Figure size 800x500 with 2 Axes>"
      ]
     },
     "metadata": {},
     "output_type": "display_data"
    }
   ],
   "source": [
    "#Checking distribution of the different date parameters\n",
    "\n",
    "day_frames = ['Hour','Month', 'Day_Type', 'Holiday']\n",
    "\n",
    "# Creating a figure and a grid of subplots with a larger figsize\n",
    "plt.figure(figsize=(10, 3))  \n",
    "\n",
    "# Defining the fonts\n",
    "title_sze = 7\n",
    "lbl_sze   = 5\n",
    "\n",
    "# Looping to create a subplot for each date parameters\n",
    "for index, column in enumerate(day_frames, start=1):  \n",
    "    plt.subplot(1, 4, index)  \n",
    "    df_full[column].hist(bins= 30)\n",
    "    plt.title(f'{column} Distribution', fontsize=title_sze)\n",
    "    plt.xlabel(column, fontsize=lbl_sze)\n",
    "    plt.ylabel('Frequency', fontsize=lbl_sze)\n",
    "    plt.grid(False)\n",
    "    plt.xticks(fontsize=lbl_sze)\n",
    "    plt.yticks(fontsize=lbl_sze)\n",
    "\n",
    "# Controlling the layout for the plots\n",
    "plt.tight_layout()\n",
    "\n",
    "# Displaying the plots\n",
    "plt.show()\n",
    "\n",
    "\n",
    "dayframes = ['Hour','Month', 'Day_Type', 'Holiday','RENTALS']\n",
    "day_corr = df_full[dayframes].corr()\n",
    "plt.figure(figsize=(8, 5))\n",
    "sns.heatmap(day_corr, annot=True, fmt='.2f', cmap='bwr',linewidths=.5, cbar=True)\n",
    "plt.title('Day Frames Correlation Matrix')\n",
    "plt.show()\n"
   ]
  },
  {
   "cell_type": "code",
   "execution_count": 239,
   "metadata": {},
   "outputs": [
    {
     "data": {
      "image/png": "[encoded data removed]",
      "text/plain": [
       "<Figure size 1000x600 with 2 Axes>"
      ]
     },
     "metadata": {},
     "output_type": "display_data"
    }
   ],
   "source": [
    "# Cheking distribution of the other factors\n",
    "\n",
    "Other_factors = ['TemperatureF', 'HumidityPercent', 'Wind_speed_mph', \n",
    "                'Visibilitymiles', 'DewPointTemperatureF',  'Rainfallin', \n",
    "                'Snowfallin', 'SolarRadiationMJ/m2' ]\n",
    "\n",
    "# Plotting the correlation matrix\n",
    "corr_matrix = df_full[Other_factors].corr()\n",
    "plt.figure(figsize=(10, 6))\n",
    "sns.heatmap(corr_matrix, annot=True, fmt='.2f', cmap='bwr',linewidths=.5, cbar=True)\n",
    "plt.title('Other Features Correlation Matrix')\n",
    "plt.show()\n"
   ]
  },
  {
   "cell_type": "code",
   "execution_count": 240,
   "metadata": {},
   "outputs": [
    {
     "data": {
      "text/html": [
       "<div>\n",
       "<style scoped>\n",
       "    .dataframe tbody tr th:only-of-type {\n",
       "        vertical-align: middle;\n",
       "    }\n",
       "\n",
       "    .dataframe tbody tr th {\n",
       "        vertical-align: top;\n",
       "    }\n",
       "\n",
       "    .dataframe thead th {\n",
       "        text-align: right;\n",
       "    }\n",
       "</style>\n",
       "<table border=\"1\" class=\"dataframe\">\n",
       "  <thead>\n",
       "    <tr style=\"text-align: right;\">\n",
       "      <th></th>\n",
       "      <th>DateHour</th>\n",
       "      <th>TemperatureF</th>\n",
       "      <th>HumidityPercent</th>\n",
       "      <th>Wind_speed_mph</th>\n",
       "      <th>Visibilitymiles</th>\n",
       "      <th>DewPointTemperatureF</th>\n",
       "      <th>Rainfallin</th>\n",
       "      <th>Snowfallin</th>\n",
       "      <th>SolarRadiationMJ/m2</th>\n",
       "      <th>Holiday</th>\n",
       "      <th>FunctioningDay</th>\n",
       "      <th>RENTALS</th>\n",
       "      <th>set</th>\n",
       "      <th>Hour</th>\n",
       "      <th>Month</th>\n",
       "      <th>Day_Type</th>\n",
       "    </tr>\n",
       "    <tr>\n",
       "      <th>ID</th>\n",
       "      <th></th>\n",
       "      <th></th>\n",
       "      <th></th>\n",
       "      <th></th>\n",
       "      <th></th>\n",
       "      <th></th>\n",
       "      <th></th>\n",
       "      <th></th>\n",
       "      <th></th>\n",
       "      <th></th>\n",
       "      <th></th>\n",
       "      <th></th>\n",
       "      <th></th>\n",
       "      <th></th>\n",
       "      <th></th>\n",
       "      <th></th>\n",
       "    </tr>\n",
       "  </thead>\n",
       "  <tbody>\n",
       "    <tr>\n",
       "      <th>mb_1039</th>\n",
       "      <td>2023-10-14 05:59:54.810</td>\n",
       "      <td>52</td>\n",
       "      <td>81</td>\n",
       "      <td>0.4</td>\n",
       "      <td>2.9</td>\n",
       "      <td>46.4</td>\n",
       "      <td>0.0</td>\n",
       "      <td>0.0</td>\n",
       "      <td>0.00</td>\n",
       "      <td>0</td>\n",
       "      <td>1</td>\n",
       "      <td>519.0</td>\n",
       "      <td>Not Kaggle</td>\n",
       "      <td>5</td>\n",
       "      <td>10</td>\n",
       "      <td>1</td>\n",
       "    </tr>\n",
       "    <tr>\n",
       "      <th>mb_1330</th>\n",
       "      <td>2023-10-26 08:59:53.355</td>\n",
       "      <td>51</td>\n",
       "      <td>53</td>\n",
       "      <td>2.2</td>\n",
       "      <td>11.7</td>\n",
       "      <td>35.2</td>\n",
       "      <td>0.0</td>\n",
       "      <td>0.0</td>\n",
       "      <td>1.01</td>\n",
       "      <td>0</td>\n",
       "      <td>1</td>\n",
       "      <td>1251.0</td>\n",
       "      <td>Not Kaggle</td>\n",
       "      <td>8</td>\n",
       "      <td>10</td>\n",
       "      <td>0</td>\n",
       "    </tr>\n",
       "    <tr>\n",
       "      <th>mb_551</th>\n",
       "      <td>2023-09-23 21:59:57.250</td>\n",
       "      <td>56</td>\n",
       "      <td>49</td>\n",
       "      <td>2.5</td>\n",
       "      <td>3.4</td>\n",
       "      <td>38.8</td>\n",
       "      <td>0.0</td>\n",
       "      <td>0.0</td>\n",
       "      <td>0.00</td>\n",
       "      <td>0</td>\n",
       "      <td>1</td>\n",
       "      <td>1685.0</td>\n",
       "      <td>Not Kaggle</td>\n",
       "      <td>21</td>\n",
       "      <td>9</td>\n",
       "      <td>1</td>\n",
       "    </tr>\n",
       "    <tr>\n",
       "      <th>mb_2103</th>\n",
       "      <td>2023-12-19 14:00:00.000</td>\n",
       "      <td>69</td>\n",
       "      <td>32</td>\n",
       "      <td>9.8</td>\n",
       "      <td>12.4</td>\n",
       "      <td>38.7</td>\n",
       "      <td>0.0</td>\n",
       "      <td>0.0</td>\n",
       "      <td>2.36</td>\n",
       "      <td>0</td>\n",
       "      <td>0</td>\n",
       "      <td>0.0</td>\n",
       "      <td>Not Kaggle</td>\n",
       "      <td>14</td>\n",
       "      <td>12</td>\n",
       "      <td>0</td>\n",
       "    </tr>\n",
       "    <tr>\n",
       "      <th>mb_1430</th>\n",
       "      <td>2023-10-30 12:59:52.855</td>\n",
       "      <td>53</td>\n",
       "      <td>20</td>\n",
       "      <td>2.9</td>\n",
       "      <td>10.8</td>\n",
       "      <td>12.9</td>\n",
       "      <td>0.0</td>\n",
       "      <td>0.0</td>\n",
       "      <td>1.96</td>\n",
       "      <td>0</td>\n",
       "      <td>1</td>\n",
       "      <td>814.0</td>\n",
       "      <td>Not Kaggle</td>\n",
       "      <td>12</td>\n",
       "      <td>10</td>\n",
       "      <td>0</td>\n",
       "    </tr>\n",
       "    <tr>\n",
       "      <th>...</th>\n",
       "      <td>...</td>\n",
       "      <td>...</td>\n",
       "      <td>...</td>\n",
       "      <td>...</td>\n",
       "      <td>...</td>\n",
       "      <td>...</td>\n",
       "      <td>...</td>\n",
       "      <td>...</td>\n",
       "      <td>...</td>\n",
       "      <td>...</td>\n",
       "      <td>...</td>\n",
       "      <td>...</td>\n",
       "      <td>...</td>\n",
       "      <td>...</td>\n",
       "      <td>...</td>\n",
       "      <td>...</td>\n",
       "    </tr>\n",
       "    <tr>\n",
       "      <th>mb_729</th>\n",
       "      <td>2023-10-01 07:59:56.360</td>\n",
       "      <td>67</td>\n",
       "      <td>53</td>\n",
       "      <td>3.1</td>\n",
       "      <td>2.3</td>\n",
       "      <td>46.4</td>\n",
       "      <td>0.0</td>\n",
       "      <td>0.0</td>\n",
       "      <td>0.50</td>\n",
       "      <td>0</td>\n",
       "      <td>1</td>\n",
       "      <td>NaN</td>\n",
       "      <td>Kaggle</td>\n",
       "      <td>7</td>\n",
       "      <td>10</td>\n",
       "      <td>1</td>\n",
       "    </tr>\n",
       "    <tr>\n",
       "      <th>mb_767</th>\n",
       "      <td>2023-10-02 21:59:56.170</td>\n",
       "      <td>50</td>\n",
       "      <td>55</td>\n",
       "      <td>3.6</td>\n",
       "      <td>12.4</td>\n",
       "      <td>32.4</td>\n",
       "      <td>0.0</td>\n",
       "      <td>0.0</td>\n",
       "      <td>0.00</td>\n",
       "      <td>0</td>\n",
       "      <td>1</td>\n",
       "      <td>NaN</td>\n",
       "      <td>Kaggle</td>\n",
       "      <td>21</td>\n",
       "      <td>10</td>\n",
       "      <td>0</td>\n",
       "    </tr>\n",
       "    <tr>\n",
       "      <th>mb_267</th>\n",
       "      <td>2023-09-12 01:59:58.670</td>\n",
       "      <td>45</td>\n",
       "      <td>62</td>\n",
       "      <td>0.4</td>\n",
       "      <td>12.4</td>\n",
       "      <td>34.3</td>\n",
       "      <td>0.0</td>\n",
       "      <td>0.0</td>\n",
       "      <td>0.00</td>\n",
       "      <td>0</td>\n",
       "      <td>1</td>\n",
       "      <td>NaN</td>\n",
       "      <td>Kaggle</td>\n",
       "      <td>1</td>\n",
       "      <td>9</td>\n",
       "      <td>0</td>\n",
       "    </tr>\n",
       "    <tr>\n",
       "      <th>mb_1696</th>\n",
       "      <td>2023-12-02 15:00:00.000</td>\n",
       "      <td>66</td>\n",
       "      <td>40</td>\n",
       "      <td>6.7</td>\n",
       "      <td>12.4</td>\n",
       "      <td>39.4</td>\n",
       "      <td>0.0</td>\n",
       "      <td>0.0</td>\n",
       "      <td>1.66</td>\n",
       "      <td>0</td>\n",
       "      <td>1</td>\n",
       "      <td>NaN</td>\n",
       "      <td>Kaggle</td>\n",
       "      <td>15</td>\n",
       "      <td>12</td>\n",
       "      <td>1</td>\n",
       "    </tr>\n",
       "    <tr>\n",
       "      <th>mb_1225</th>\n",
       "      <td>2023-10-21 23:59:53.880</td>\n",
       "      <td>68</td>\n",
       "      <td>73</td>\n",
       "      <td>2.7</td>\n",
       "      <td>12.4</td>\n",
       "      <td>58.1</td>\n",
       "      <td>0.0</td>\n",
       "      <td>0.0</td>\n",
       "      <td>0.00</td>\n",
       "      <td>0</td>\n",
       "      <td>0</td>\n",
       "      <td>NaN</td>\n",
       "      <td>Kaggle</td>\n",
       "      <td>23</td>\n",
       "      <td>10</td>\n",
       "      <td>1</td>\n",
       "    </tr>\n",
       "  </tbody>\n",
       "</table>\n",
       "<p>2184 rows × 16 columns</p>\n",
       "</div>"
      ],
      "text/plain": [
       "                       DateHour  TemperatureF  HumidityPercent  Wind_speed_mph  Visibilitymiles  DewPointTemperatureF  Rainfallin  Snowfallin  SolarRadiationMJ/m2  Holiday  FunctioningDay  RENTALS         set  Hour  Month  Day_Type\n",
       "ID                                                                                                                                                                                                                                     \n",
       "mb_1039 2023-10-14 05:59:54.810            52               81             0.4              2.9                  46.4         0.0         0.0                 0.00        0               1    519.0  Not Kaggle     5     10         1\n",
       "mb_1330 2023-10-26 08:59:53.355            51               53             2.2             11.7                  35.2         0.0         0.0                 1.01        0               1   1251.0  Not Kaggle     8     10         0\n",
       "mb_551  2023-09-23 21:59:57.250            56               49             2.5              3.4                  38.8         0.0         0.0                 0.00        0               1   1685.0  Not Kaggle    21      9         1\n",
       "mb_2103 2023-12-19 14:00:00.000            69               32             9.8             12.4                  38.7         0.0         0.0                 2.36        0               0      0.0  Not Kaggle    14     12         0\n",
       "mb_1430 2023-10-30 12:59:52.855            53               20             2.9             10.8                  12.9         0.0         0.0                 1.96        0               1    814.0  Not Kaggle    12     10         0\n",
       "...                         ...           ...              ...             ...              ...                   ...         ...         ...                  ...      ...             ...      ...         ...   ...    ...       ...\n",
       "mb_729  2023-10-01 07:59:56.360            67               53             3.1              2.3                  46.4         0.0         0.0                 0.50        0               1      NaN      Kaggle     7     10         1\n",
       "mb_767  2023-10-02 21:59:56.170            50               55             3.6             12.4                  32.4         0.0         0.0                 0.00        0               1      NaN      Kaggle    21     10         0\n",
       "mb_267  2023-09-12 01:59:58.670            45               62             0.4             12.4                  34.3         0.0         0.0                 0.00        0               1      NaN      Kaggle     1      9         0\n",
       "mb_1696 2023-12-02 15:00:00.000            66               40             6.7             12.4                  39.4         0.0         0.0                 1.66        0               1      NaN      Kaggle    15     12         1\n",
       "mb_1225 2023-10-21 23:59:53.880            68               73             2.7             12.4                  58.1         0.0         0.0                 0.00        0               0      NaN      Kaggle    23     10         1\n",
       "\n",
       "[2184 rows x 16 columns]"
      ]
     },
     "execution_count": 240,
     "metadata": {},
     "output_type": "execute_result"
    }
   ],
   "source": [
    "# Reviewing the data again\n",
    "df_full"
   ]
  },
  {
   "cell_type": "markdown",
   "metadata": {
    "deletable": false,
    "editable": false,
    "run_control": {
     "frozen": true
    }
   },
   "source": [
    "<br><h3>Feature Engineering</h3>"
   ]
  },
  {
   "cell_type": "code",
   "execution_count": 241,
   "metadata": {},
   "outputs": [],
   "source": [
    "## Feature Engineering ##\n",
    "\n",
    "# Creating other features to include with the 'Day Type' feature\n",
    "\n",
    "\n",
    "#Creating Temperature blocks in Fahrenheit Feature \n",
    "temperature_blk = [0, 40, 65, 95, 125] \n",
    "blk_labels = [0, 1, 2, 3]\n",
    "df_full['Temperature_Blk'] = pd.cut(df_full['TemperatureF'], bins=temperature_blk, labels=blk_labels, include_lowest=True)\n",
    "\n",
    "# Creating Visibility Ranges in miles Feature\n",
    "visibility_rnge = [0, 5, 10, 15]\n",
    "visibility_labels = [0, 1, 2]\n",
    "df_full['Visibility_Ranges'] = pd.cut(df_full['Visibilitymiles'], bins=visibility_rnge, \n",
    "                                     labels=visibility_labels, include_lowest=True)\n"
   ]
  },
  {
   "cell_type": "code",
   "execution_count": 242,
   "metadata": {},
   "outputs": [
    {
     "data": {
      "text/html": [
       "<div>\n",
       "<style scoped>\n",
       "    .dataframe tbody tr th:only-of-type {\n",
       "        vertical-align: middle;\n",
       "    }\n",
       "\n",
       "    .dataframe tbody tr th {\n",
       "        vertical-align: top;\n",
       "    }\n",
       "\n",
       "    .dataframe thead th {\n",
       "        text-align: right;\n",
       "    }\n",
       "</style>\n",
       "<table border=\"1\" class=\"dataframe\">\n",
       "  <thead>\n",
       "    <tr style=\"text-align: right;\">\n",
       "      <th></th>\n",
       "      <th>RENTALS</th>\n",
       "    </tr>\n",
       "  </thead>\n",
       "  <tbody>\n",
       "    <tr>\n",
       "      <th>FunctioningDay</th>\n",
       "      <td>0.45</td>\n",
       "    </tr>\n",
       "    <tr>\n",
       "      <th>DewPointTemperatureF</th>\n",
       "      <td>0.03</td>\n",
       "    </tr>\n",
       "    <tr>\n",
       "      <th>Visibilitymiles</th>\n",
       "      <td>-0.01</td>\n",
       "    </tr>\n",
       "  </tbody>\n",
       "</table>\n",
       "</div>"
      ],
      "text/plain": [
       "                      RENTALS\n",
       "FunctioningDay           0.45\n",
       "DewPointTemperatureF     0.03\n",
       "Visibilitymiles         -0.01"
      ]
     },
     "execution_count": 242,
     "metadata": {},
     "output_type": "execute_result"
    }
   ],
   "source": [
    "#Checking correlation of existing features with the y variable\n",
    "\n",
    "corr_cols = ['RENTALS', 'Visibilitymiles', 'DewPointTemperatureF', 'FunctioningDay']\n",
    "\n",
    "# Calculate correlation matrix for the selected columns\n",
    "bike_corr_matrix = df_full[corr_cols].corr(method='pearson').round(2)\n",
    "\n",
    "        \n",
    "bike_corr_matrix.loc[ ['Visibilitymiles', 'DewPointTemperatureF', 'FunctioningDay'],\n",
    "                   ['RENTALS'] ].sort_values(by = 'RENTALS',\n",
    "                                                           ascending = False)"
   ]
  },
  {
   "cell_type": "code",
   "execution_count": 243,
   "metadata": {},
   "outputs": [
    {
     "data": {
      "text/html": [
       "<div>\n",
       "<style scoped>\n",
       "    .dataframe tbody tr th:only-of-type {\n",
       "        vertical-align: middle;\n",
       "    }\n",
       "\n",
       "    .dataframe tbody tr th {\n",
       "        vertical-align: top;\n",
       "    }\n",
       "\n",
       "    .dataframe thead th {\n",
       "        text-align: right;\n",
       "    }\n",
       "</style>\n",
       "<table border=\"1\" class=\"dataframe\">\n",
       "  <thead>\n",
       "    <tr style=\"text-align: right;\">\n",
       "      <th></th>\n",
       "      <th>RENTALS</th>\n",
       "    </tr>\n",
       "  </thead>\n",
       "  <tbody>\n",
       "    <tr>\n",
       "      <th>Temperature_Blk</th>\n",
       "      <td>0.28</td>\n",
       "    </tr>\n",
       "    <tr>\n",
       "      <th>Day_Type</th>\n",
       "      <td>0.07</td>\n",
       "    </tr>\n",
       "    <tr>\n",
       "      <th>Visibility_Ranges</th>\n",
       "      <td>-0.00</td>\n",
       "    </tr>\n",
       "  </tbody>\n",
       "</table>\n",
       "</div>"
      ],
      "text/plain": [
       "                   RENTALS\n",
       "Temperature_Blk       0.28\n",
       "Day_Type              0.07\n",
       "Visibility_Ranges    -0.00"
      ]
     },
     "execution_count": 243,
     "metadata": {},
     "output_type": "execute_result"
    }
   ],
   "source": [
    "#Checking correlation of new features with the y variable\n",
    "\n",
    "bike_cols = ['RENTALS', 'Day_Type', 'Temperature_Blk', 'Visibility_Ranges']\n",
    "\n",
    "# Calculate correlation matrix for the selected columns\n",
    "bikes_corr_matrix = df_full[bike_cols].corr(method='pearson').round(2)\n",
    "\n",
    "bikes_corr_matrix.loc[ ['Day_Type', 'Temperature_Blk', 'Visibility_Ranges'],\n",
    "                   ['RENTALS'] ].sort_values(by = 'RENTALS',\n",
    "                                                           ascending = False)"
   ]
  },
  {
   "cell_type": "markdown",
   "metadata": {
    "deletable": false,
    "editable": false,
    "run_control": {
     "frozen": true
    }
   },
   "source": [
    "<br><hr style=\"height:.9px;border:none;color:#333;background-color:#333;\" /><br>\n",
    "\n",
    "<h2>Part III: Data Partitioning</h2><br>\n",
    "This is a very important step for your submission on Kaggle. Make sure to complete your data preparationbefore moving forward.\n",
    "<br>\n",
    "<br><h3>Separating the Kaggle Data</h3><br>"
   ]
  },
  {
   "cell_type": "code",
   "execution_count": null,
   "metadata": {},
   "outputs": [],
   "source": [
    "## parsing out testing data (needed for later) ##\n",
    "\n",
    "# dataset for kaggle\n",
    "kaggle_data = df_full[ df_full['set'] == 'Kaggle' ].copy()\n",
    "\n",
    "\n",
    "# dataset for model building\n",
    "df = df_full[ df_full['set'] == 'Not Kaggle' ].copy()\n",
    "\n",
    "\n",
    "# dropping set identifier (kaggle)\n",
    "kaggle_data.drop(labels = 'set',\n",
    "                 axis = 1,\n",
    "                 inplace = True)\n",
    "\n",
    "\n",
    "# dropping set identifier (model building)\n",
    "df.drop(labels = 'set',\n",
    "        axis = 1,\n",
    "        inplace = True)"
   ]
  },
  {
   "cell_type": "markdown",
   "metadata": {
    "deletable": false,
    "editable": false,
    "run_control": {
     "frozen": true
    }
   },
   "source": [
    "<br><h3>Train-Test Split</h3><br>\n",
    "Note that the following code will remove non-numeric features, keeping only integer and float data types. It will also remove any observations that contain missing values. This is to prevent errors in the model building process. "
   ]
  },
  {
   "cell_type": "code",
   "execution_count": null,
   "metadata": {},
   "outputs": [],
   "source": [
    "#!###########################!#\n",
    "#!# choose your x-variables #!#\n",
    "#!###########################!#\n",
    "x_features = ['Day_Type', 'Temperature_Blk', 'Visibility_Ranges', 'TemperatureF', 'HumidityPercent', 'Rainfallin', 'Snowfallin', 'SolarRadiationMJ/m2', 'Hour', 'Month'] # this should be a list"
   ]
  },
  {
   "cell_type": "markdown",
   "metadata": {
    "deletable": false,
    "editable": false,
    "run_control": {
     "frozen": true
    }
   },
   "source": [
    "<br>"
   ]
  },
  {
   "cell_type": "code",
   "execution_count": null,
   "metadata": {
    "deletable": false,
    "editable": false
   },
   "outputs": [],
   "source": [
    "## ########################### ##\n",
    "## DON'T CHANGE THE CODE BELOW ##\n",
    "## ########################### ##\n",
    "\n",
    "# prepping data for train-test split\n",
    "y_data = df[y_variable]\n",
    "\n",
    "\n",
    "# removing non-numeric columns and missing values\n",
    "x_data = df[x_features].copy().select_dtypes(include=[int, float]).dropna(axis = 1)\n",
    "\n",
    "\n",
    "# storing remaining x_features after the step above\n",
    "x_features = list(x_data.columns)\n",
    "\n",
    "\n",
    "# train-test split (to validate the model)\n",
    "x_train, x_test, y_train, y_test = train_test_split(x_data, \n",
    "                                                    y_data, \n",
    "                                                    test_size    = 0.25,\n",
    "                                                    random_state = 702 )\n",
    "\n",
    "\n",
    "# results of train-test split\n",
    "print(f\"\"\"\n",
    "Original Dataset Dimensions\n",
    "---------------------------\n",
    "Observations (Rows): {df.shape[0]}\n",
    "Features  (Columns): {df.shape[1]}\n",
    "\n",
    "\n",
    "Training Data (X-side)\n",
    "----------------------\n",
    "Observations (Rows): {x_train.shape[0]}\n",
    "Features  (Columns): {x_train.shape[1]}\n",
    "\n",
    "\n",
    "Training Data (y-side)\n",
    "----------------------\n",
    "Feature Name:        {y_train.name}\n",
    "Observations (Rows): {y_train.shape[0]}\n",
    "\n",
    "\n",
    "Testing Data (X-side)\n",
    "---------------------\n",
    "Observations (Rows): {x_test.shape[0]}\n",
    "Features  (Columns): {x_test.shape[1]}\n",
    "\n",
    "\n",
    "Testing Data (y-side)\n",
    "---------------------\n",
    "Feature Name:        {y_test.name}\n",
    "Observations (Rows): {y_test.shape[0]}\"\"\")"
   ]
  },
  {
   "cell_type": "markdown",
   "metadata": {
    "deletable": false,
    "editable": false,
    "run_control": {
     "frozen": true
    }
   },
   "source": [
    "<hr style=\"height:.9px;border:none;color:#333;background-color:#333;\" /><br>\n",
    "\n",
    "<h2>Part III: Candidate Modeling</h2><br>\n",
    "Develop your candidate models below."
   ]
  },
  {
   "cell_type": "code",
   "execution_count": null,
   "metadata": {},
   "outputs": [],
   "source": [
    "# Code for OLS Model\n",
    "\n",
    "model_name = 'OLS' \n",
    "\n",
    "model = sklearn.linear_model.LinearRegression()"
   ]
  },
  {
   "cell_type": "code",
   "execution_count": null,
   "metadata": {},
   "outputs": [],
   "source": [
    "# Code for Lasso Model\n",
    "\n",
    "model_name = 'Lasso'\n",
    "\n",
    "model = sklearn.linear_model.Lasso()"
   ]
  },
  {
   "cell_type": "code",
   "execution_count": null,
   "metadata": {},
   "outputs": [],
   "source": [
    "# Code for Ridge Model\n",
    "\n",
    "model_name = 'Ridge'\n",
    "\n",
    "model = sklearn.linear_model.Ridge()"
   ]
  },
  {
   "cell_type": "code",
   "execution_count": null,
   "metadata": {},
   "outputs": [],
   "source": [
    "# Code for Elastic Net Model\n",
    "\n",
    "model_name = 'Elastic Net'\n",
    "\n",
    "model = sklearn.linear_model.SGDRegressor()"
   ]
  },
  {
   "cell_type": "code",
   "execution_count": null,
   "metadata": {},
   "outputs": [],
   "source": [
    "# Code for Decision Tree Model\n",
    "\n",
    "model_name = 'Decision Tree' \n",
    "\n",
    "model = sklearn.tree.DecisionTreeRegressor() "
   ]
  },
  {
   "cell_type": "code",
   "execution_count": null,
   "metadata": {},
   "outputs": [],
   "source": [
    "# Code for KNN Model\n",
    "model_name = 'KNN' # name your model\n",
    "\n",
    "model = sklearn.neighbors.KNeighborsRegressor()"
   ]
  },
  {
   "cell_type": "markdown",
   "metadata": {
    "deletable": false,
    "editable": false,
    "run_control": {
     "frozen": true
    }
   },
   "source": [
    "<br>"
   ]
  },
  {
   "cell_type": "code",
   "execution_count": null,
   "metadata": {
    "deletable": false,
    "editable": false
   },
   "outputs": [],
   "source": [
    "## ########################### ##\n",
    "## DON'T CHANGE THE CODE BELOW ##\n",
    "## ########################### ##\n",
    "\n",
    "# FITTING to the training data\n",
    "model_fit = model.fit(x_train, y_train)\n",
    "\n",
    "\n",
    "# PREDICTING on new data\n",
    "model_pred = model.predict(x_test)\n",
    "\n",
    "\n",
    "# SCORING the results\n",
    "model_train_score = model.score(x_train, y_train).round(4)\n",
    "model_test_score  = model.score(x_test, y_test).round(4)\n",
    "model_gap         = abs(model_train_score - model_test_score).round(4)\n",
    "    \n",
    "\n",
    "# dynamically printing results\n",
    "model_summary =  f\"\"\"\\\n",
    "Model Name:     {model_name}\n",
    "Train_Score:    {model_train_score}\n",
    "Test_Score:     {model_test_score}\n",
    "Train-Test Gap: {model_gap}\n",
    "\"\"\"\n",
    "\n",
    "print(model_summary)"
   ]
  },
  {
   "cell_type": "code",
   "execution_count": null,
   "metadata": {},
   "outputs": [],
   "source": [
    "model_fit = model.fit(x_train, y_train)\n",
    "\n",
    "\n",
    "# PREDICTING on new data\n",
    "model_pred = model.predict(x_test)\n",
    "\n",
    "\n",
    "# SCORING the results\n",
    "model_train_score = model.score(x_train, y_train).round(4)\n",
    "model_test_score  = model.score(x_test, y_test).round(4)\n",
    "model_gap         = abs(model_train_score - model_test_score).round(4)\n",
    "    \n",
    "\n",
    "# dynamically printing results\n",
    "model_summary =  f\"\"\"\\\n",
    "Model Name:     {model_name2}\n",
    "Train_Score:    {model_train_score}\n",
    "Test_Score:     {model_test_score}\n",
    "Train-Test Gap: {model_gap}\n",
    "\"\"\"\n",
    "\n",
    "print(model_summary)"
   ]
  },
  {
   "cell_type": "code",
   "execution_count": null,
   "metadata": {},
   "outputs": [],
   "source": [
    "model_fit = model.fit(x_train, y_train)\n",
    "\n",
    "\n",
    "# PREDICTING on new data\n",
    "model_pred = model.predict(x_test)\n",
    "\n",
    "\n",
    "# SCORING the results\n",
    "model_train_score = model.score(x_train, y_train).round(4)\n",
    "model_test_score  = model.score(x_test, y_test).round(4)\n",
    "model_gap         = abs(model_train_score - model_test_score).round(4)\n",
    "    \n",
    "\n",
    "# dynamically printing results\n",
    "model_summary =  f\"\"\"\\\n",
    "Model Name:     {model_name3}\n",
    "Train_Score:    {model_train_score}\n",
    "Test_Score:     {model_test_score}\n",
    "Train-Test Gap: {model_gap}\n",
    "\"\"\"\n",
    "\n",
    "print(model_summary)"
   ]
  },
  {
   "cell_type": "code",
   "execution_count": null,
   "metadata": {},
   "outputs": [],
   "source": [
    "model_fit = model.fit(x_train, y_train)\n",
    "\n",
    "\n",
    "# PREDICTING on new data\n",
    "model_pred = model.predict(x_test)\n",
    "\n",
    "\n",
    "# SCORING the results\n",
    "model_train_score = model.score(x_train, y_train).round(4)\n",
    "model_test_score  = model.score(x_test, y_test).round(4)\n",
    "model_gap         = abs(model_train_score - model_test_score).round(4)\n",
    "    \n",
    "\n",
    "# dynamically printing results\n",
    "model_summary =  f\"\"\"\\\n",
    "Model Name:     {model_name4}\n",
    "Train_Score:    {model_train_score}\n",
    "Test_Score:     {model_test_score}\n",
    "Train-Test Gap: {model_gap}\n",
    "\"\"\"\n",
    "\n",
    "print(model_summary)"
   ]
  },
  {
   "cell_type": "code",
   "execution_count": null,
   "metadata": {},
   "outputs": [],
   "source": [
    "model_fit = model.fit(x_train, y_train)\n",
    "\n",
    "\n",
    "# PREDICTING on new data\n",
    "model_pred = model.predict(x_test)\n",
    "\n",
    "\n",
    "# SCORING the results\n",
    "model_train_score = model.score(x_train, y_train).round(4)\n",
    "model_test_score  = model.score(x_test, y_test).round(4)\n",
    "model_gap         = abs(model_train_score - model_test_score).round(4)\n",
    "    \n",
    "\n",
    "# dynamically printing results\n",
    "model_summary =  f\"\"\"\\\n",
    "Model Name:     {model_name5}\n",
    "Train_Score:    {model_train_score}\n",
    "Test_Score:     {model_test_score}\n",
    "Train-Test Gap: {model_gap}\n",
    "\"\"\"\n",
    "\n",
    "print(model_summary)"
   ]
  },
  {
   "cell_type": "code",
   "execution_count": null,
   "metadata": {},
   "outputs": [],
   "source": [
    "model_fit = model.fit(x_train, y_train)\n",
    "\n",
    "\n",
    "# PREDICTING on new data\n",
    "model_pred = model.predict(x_test)\n",
    "\n",
    "\n",
    "# SCORING the results\n",
    "model_train_score = model.score(x_train, y_train).round(4)\n",
    "model_test_score  = model.score(x_test, y_test).round(4)\n",
    "model_gap         = abs(model_train_score - model_test_score).round(4)\n",
    "    \n",
    "\n",
    "# dynamically printing results\n",
    "model_summary =  f\"\"\"\\\n",
    "Model Name:     {model_name6}\n",
    "Train_Score:    {model_train_score}\n",
    "Test_Score:     {model_test_score}\n",
    "Train-Test Gap: {model_gap}\n",
    "\"\"\"\n",
    "\n",
    "print(model_summary)"
   ]
  },
  {
   "cell_type": "markdown",
   "metadata": {
    "deletable": false,
    "editable": false,
    "run_control": {
     "frozen": true
    }
   },
   "source": [
    "<br>\n",
    "<h3>Residual Analysis</h3><br>"
   ]
  },
  {
   "cell_type": "code",
   "execution_count": null,
   "metadata": {},
   "outputs": [],
   "source": [
    "## Residual Analysis ##\n",
    "\n",
    "# organizing residuals\n",
    "model_residuals = {\"True\"            : y_test,\n",
    "                   \"Predicted\"       : model_pred\n",
    "                  }\n",
    "\n",
    "\n",
    "# converting residuals into df\n",
    "model_resid_df = pd.DataFrame(data = model_residuals)\n",
    "\n",
    "\n",
    "# checking results\n",
    "model_resid_df.head(n = 5)\n"
   ]
  },
  {
   "cell_type": "markdown",
   "metadata": {
    "deletable": false,
    "editable": false,
    "run_control": {
     "frozen": true
    }
   },
   "source": [
    "<br>\n",
    "<h3>Hyperparameter Tuning</h3><br>"
   ]
  },
  {
   "cell_type": "code",
   "execution_count": null,
   "metadata": {},
   "outputs": [],
   "source": [
    "## Hyperparameter Tuning ##\n",
    "\n",
    "dt_params = {'max_depth': [None, 10, 20, 30, 40, 50, 60],\n",
    "    'min_samples_split': [2, 5, 10, 15, 20, 30, 40],\n",
    "    'min_samples_leaf': [1, 2, 4, 6],\n",
    "    'max_features': ['sqrt', 'log2', None] }\n",
    "dt_grid = GridSearchCV(DecisionTreeRegressor(), dt_params, cv=5, scoring='neg_mean_squared_error')\n",
    "dt_grid.fit(x_train, y_train)\n",
    "dt_best = dt_grid.best_estimator_\n",
    "\n",
    "\n",
    "## Top 2 Model ##\n",
    "# Ridge Regression\n",
    "ridge_params = {'alpha': np.logspace(-2, 4, 70)}\n",
    "ridge_grid = GridSearchCV(Ridge(), ridge_params, cv=5, scoring='neg_mean_squared_error')\n",
    "ridge_grid.fit(x_train, y_train)\n",
    "ridge_best = ridge_grid.best_estimator_\n",
    "\n",
    "## Top 3 Model ##\n",
    "# Third highest model is linear regression\n",
    "\n",
    "# Evaluate the tuned models\n",
    "tuned_models = {\n",
    "    'Decision Tree (Tuned)': dt_best,\n",
    "    'Linear Regression': model,\n",
    "    'Ridge (Tuned)': ridge_best\n",
    "}\n",
    "\n",
    "tuned_results = []\n",
    "\n",
    "# generate results in a loop form\n",
    "for name, model in tuned_models.items():\n",
    "    train_pred = model.predict(x_train) \n",
    "    test_pred = model.predict(x_test)\n",
    "    train_rmse = np.sqrt(mean_squared_error(y_train, train_pred)) # generating RSME to evaluate results better\n",
    "    test_rmse = np.sqrt(mean_squared_error(y_test, test_pred))\n",
    "    train_r2 = r2_score(y_train, train_pred)\n",
    "    test_r2 = r2_score(y_test, test_pred)\n",
    "    gap = train_r2 - test_r2 # computing for score gap to ensure final model fall below 0.05 threshold\n",
    "    tuned_results.append({'Model': name, 'Train RMSE': train_rmse, 'Test RMSE': test_rmse, 'Train R2': train_r2, 'Test R2': test_r2, 'Score Gap': gap})\n",
    "\n",
    "# Display the results after tuning, sorted by Test RMSE\n",
    "print(\"Parameter Tuned Model results:\")\n",
    "tuned_results_df = pd.DataFrame(tuned_results)\n",
    "tuned_results_df.sort_values(by='Test RMSE', ascending=True, inplace=True)\n",
    "print(tuned_results_df)\n"
   ]
  },
  {
   "cell_type": "markdown",
   "metadata": {
    "deletable": false,
    "editable": false,
    "run_control": {
     "frozen": true
    }
   },
   "source": [
    "<hr style=\"height:.9px;border:none;color:#333;background-color:#333;\" /><br>\n",
    "\n",
    "<h2>Part IV: Preparing Submission File for Kaggle</h2><br>\n",
    "The code below will store the predicted values for each of the models above."
   ]
  },
  {
   "cell_type": "code",
   "execution_count": null,
   "metadata": {
    "deletable": false,
    "editable": false
   },
   "outputs": [],
   "source": [
    "# x-data\n",
    "x_data_kaggle = kaggle_data[x_features].copy()\n",
    "\n",
    "\n",
    "# y-data\n",
    "y_data_kaggle = kaggle_data[y_variable]\n",
    "\n",
    "\n",
    "# Fitting model from above to the Kaggle test data\n",
    "kaggle_predictions = model.predict(x_data_kaggle)"
   ]
  },
  {
   "cell_type": "markdown",
   "metadata": {
    "deletable": false,
    "editable": false,
    "run_control": {
     "frozen": true
    }
   },
   "source": [
    "<br>\n",
    "<h3>Creating the Kaggle File</h3><br>"
   ]
  },
  {
   "cell_type": "code",
   "execution_count": null,
   "metadata": {
    "deletable": false,
    "editable": false
   },
   "outputs": [],
   "source": [
    "## Kaggle Submission File ##\n",
    "\n",
    "# organizing predictions\n",
    "model_predictions = {\"RENTALS\" : kaggle_predictions}\n",
    "\n",
    "\n",
    "# converting predictions into df\n",
    "model_pred_df = pd.DataFrame(data  = model_predictions,\n",
    "                             index = df_test.index)"
   ]
  },
  {
   "cell_type": "markdown",
   "metadata": {
    "deletable": false,
    "editable": false,
    "run_control": {
     "frozen": true
    }
   },
   "source": [
    "<br>"
   ]
  },
  {
   "cell_type": "code",
   "execution_count": null,
   "metadata": {},
   "outputs": [],
   "source": [
    "#!######################!#\n",
    "#!# name the .csv file #!#\n",
    "#!######################!#\n",
    "\n",
    "# KNN Model\n",
    "model_pred_df.to_csv(path_or_buf = \"./model_output/A_1_FrancisKNN.csv\",\n",
    "                     index       = True,\n",
    "                     index_label = 'ID')"
   ]
  },
  {
   "cell_type": "markdown",
   "metadata": {
    "deletable": false,
    "editable": false,
    "run_control": {
     "frozen": true
    }
   },
   "source": [
    "<br>"
   ]
  },
  {
   "cell_type": "markdown",
   "metadata": {},
   "source": [
    "### Referrence:\n",
    "\n",
    "OpenAI. (2022). ChatGPT (Dec 20 version). Date Accessed: February 22, 2024. [Large language model]. https://chat.openai.com/\n",
    "\n",
    "### Appendix:\n",
    "\n",
    "Prompts in ChatGpt:\n",
    "\n",
    "1. Possible features to be engineered based on the data\n",
    "2. Loops for plots\n"
   ]
  },
  {
   "cell_type": "markdown",
   "metadata": {
    "deletable": false,
    "editable": false,
    "run_control": {
     "frozen": true
    }
   },
   "source": [
    "<br>"
   ]
  }
 ],
 "metadata": {
  "kernelspec": {
   "display_name": "Python 3 (ipykernel)",
   "language": "python",
   "name": "python3"
  },
  "language_info": {
   "codemirror_mode": {
    "name": "ipython",
    "version": 3
   },
   "file_extension": ".py",
   "mimetype": "text/x-python",
   "name": "python",
   "nbconvert_exporter": "python",
   "pygments_lexer": "ipython3",
   "version": "3.11.5"
  },
  "toc": {
   "base_numbering": 1,
   "nav_menu": {},
   "number_sections": false,
   "sideBar": true,
   "skip_h1_title": false,
   "title_cell": "Table of Contents",
   "title_sidebar": "Contents",
   "toc_cell": false,
   "toc_position": {
    "height": "calc(100% - 180px)",
    "left": "10px",
    "top": "150px",
    "width": "288px"
   },
   "toc_section_display": true,
   "toc_window_display": false
  },
  "varInspector": {
   "cols": {
    "lenName": 16,
    "lenType": 16,
    "lenVar": 40
   },
   "kernels_config": {
    "python": {
     "delete_cmd_postfix": "",
     "delete_cmd_prefix": "del ",
     "library": "var_list.py",
     "varRefreshCmd": "print(var_dic_list())"
    },
    "r": {
     "delete_cmd_postfix": ") ",
     "delete_cmd_prefix": "rm(",
     "library": "var_list.r",
     "varRefreshCmd": "cat(var_dic_list()) "
    }
   },
   "types_to_exclude": [
    "module",
    "function",
    "builtin_function_or_method",
    "instance",
    "_Feature"
   ],
   "window_display": false
  }
 },
 "nbformat": 4,
 "nbformat_minor": 2
}
